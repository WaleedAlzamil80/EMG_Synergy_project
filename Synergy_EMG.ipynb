{
  "cells": [
    {
      "cell_type": "code",
      "execution_count": null,
      "metadata": {
        "id": "SgjK4h1Ya4SI",
        "scrolled": true
      },
      "outputs": [],
      "source": [
        "!pip install utils datasets numpy scipy seaborn matplotlib gdown"
      ]
    },
    {
      "cell_type": "code",
      "source": [
        "from helper_functions.get_collected_data import *\n",
        "import scipy.io\n",
        "\n",
        "x = GetEMGData(\"Collected_Data/Subject_1/WA_thumb.mat\")\n",
        "for i in x:\n",
        "    print(i.shape)\n",
        "\n",
        "# for i in dy[7][0][0][3][0]:\n",
        "#   print(i.item())\n",
        "\n",
        "# for i in dy[6][0][0][5][0]:\n",
        "#   print(i.item())"
      ],
      "metadata": {
        "id": "c2qARFXP6cnb"
      },
      "execution_count": null,
      "outputs": []
    },
    {
      "cell_type": "code",
      "execution_count": 4,
      "metadata": {
        "id": "ljdvtueJa4SM"
      },
      "outputs": [],
      "source": [
        "import torch\n",
        "from torch import nn\n",
        "from torch.utils.data import Dataset, DataLoader, TensorDataset\n",
        "\n",
        "from utils import *\n",
        "\n",
        "import datasets\n",
        "from datasets import load_dataset, load_metric\n",
        "\n",
        "import scipy\n",
        "import numpy as np\n",
        "import pandas as pd\n",
        "\n",
        "import pickle\n",
        "import gdown\n",
        "import os\n",
        "\n",
        "import seaborn as sns\n",
        "import matplotlib.pyplot as plt\n",
        "sns.set()"
      ]
    },
    {
      "cell_type": "code",
      "execution_count": 5,
      "metadata": {
        "colab": {
          "base_uri": "https://localhost:8080/"
        },
        "id": "7jsaqcCvbRsl",
        "outputId": "de0b8e71-3364-436c-99aa-31c8654e72eb"
      },
      "outputs": [
        {
          "output_type": "stream",
          "name": "stderr",
          "text": [
            "Downloading...\n",
            "From: https://drive.google.com/uc?id=1bhrvIGgsKgndZZeNOoXaOIZU8WqyN3in\n",
            "To: /content/E1.mat\n",
            "100%|██████████| 151M/151M [00:01<00:00, 116MB/s]\n",
            "Downloading...\n",
            "From: https://drive.google.com/uc?id=1aW7bYXEzp_0hytdizV_oo5n7C8woPlz6\n",
            "To: /content/E2.mat\n",
            "100%|██████████| 244M/244M [00:02<00:00, 91.1MB/s]\n"
          ]
        }
      ],
      "source": [
        "def load_data_from_drive(file_url, output_path):\n",
        "    # Extract file ID from URL\n",
        "    file_id = file_url.split(\"/d/\")[1].split(\"/view\")[0]\n",
        "\n",
        "    # Construct download link\n",
        "    download_url = f\"https://drive.google.com/uc?id={file_id}\"\n",
        "\n",
        "    # Download file\n",
        "    gdown.download(download_url, output_path, quiet=False)\n",
        "\n",
        "# Load the data from my drive\n",
        "load_data_from_drive(\"https://drive.google.com/file/d/1bhrvIGgsKgndZZeNOoXaOIZU8WqyN3in/view?usp=drive_link\", \"E1.mat\")\n",
        "load_data_from_drive(\"https://drive.google.com/file/d/1aW7bYXEzp_0hytdizV_oo5n7C8woPlz6/view?usp=drive_link\", \"E2.mat\")"
      ]
    },
    {
      "cell_type": "code",
      "execution_count": 4,
      "metadata": {
        "id": "gHlG_QyAa4SP"
      },
      "outputs": [],
      "source": [
        "# Import the data\n",
        "df1 = scipy.io.loadmat(\"E1.mat\")\n",
        "df2 = scipy.io.loadmat(\"E2.mat\")\n",
        "\n",
        "emg1 = pd.DataFrame(df1[\"emg\"])\n",
        "emg2 = pd.DataFrame(df2[\"emg\"])\n",
        "\n",
        "acc1 = pd.DataFrame(df1[\"acc\"])\n",
        "acc2 = pd.DataFrame(df2[\"acc\"])\n",
        "\n",
        "glove1 = pd.DataFrame(df1[\"glove\"])\n",
        "glove2 = pd.DataFrame(df2[\"glove\"])\n",
        "\n",
        "stimulus1 = pd.DataFrame(df1[\"stimulus\"])\n",
        "stimulus2 = pd.DataFrame(df2[\"stimulus\"])\n",
        "\n",
        "restimulus1 = pd.DataFrame(df1[\"restimulus\"])\n",
        "restimulus2 = pd.DataFrame(df2[\"restimulus\"])\n",
        "\n",
        "repetition1 = pd.DataFrame(df1[\"repetition\"])\n",
        "repetition2 = pd.DataFrame(df2[\"repetition\"])\n",
        "\n",
        "rerepetition1 = pd.DataFrame(df1[\"rerepetition\"])\n",
        "rerepetition2 = pd.DataFrame(df2[\"rerepetition\"])"
      ]
    },
    {
      "cell_type": "code",
      "execution_count": 5,
      "metadata": {
        "id": "GCihAzKoa4SQ"
      },
      "outputs": [],
      "source": [
        "# We will use a Linear model to find the angles of our joints\n",
        "\n",
        "## Maximum angles for each corresponding joint\n",
        "Max_angles = np.array([\n",
        "    [15, 50, 80, 0, 0, 120, 90, 0, 120, 90, 90, 0, 120, 90, 90, 0, 120, 90, 90, 0, 0, 0]\n",
        "]).reshape(-1, 1)\n",
        "\n",
        "def GetAngles(gloves_data, max_angles):\n",
        "    # calculate the min and max of the data\n",
        "    min_val = gloves_data.min()\n",
        "    max_val = gloves_data.max()\n",
        "\n",
        "    # normalize it\n",
        "    Normalized_data = ((gloves_data - min_val) / (max_val - min_val))\n",
        "\n",
        "    # find the angles\n",
        "    fing_angles = np.array(Normalized_data) * max_angles.T\n",
        "\n",
        "    # convert to DataFrame\n",
        "    fing_gloves = pd.DataFrame(fing_angles, columns = [f\"angles_glove_{i+1}\" for i in range(22)])\n",
        "\n",
        "    return (fing_gloves)\n",
        "\n",
        "E1 = GetAngles(glove1, Max_angles)\n",
        "E2 = GetAngles(glove2, Max_angles)"
      ]
    },
    {
      "cell_type": "code",
      "execution_count": null,
      "metadata": {
        "colab": {
          "base_uri": "https://localhost:8080/"
        },
        "id": "tgoqCg4Ua4SQ",
        "outputId": "93830170-e387-42fd-a817-822c8c26ba86"
      },
      "outputs": [
        {
          "name": "stdout",
          "output_type": "stream",
          "text": [
            "(1808331, 14)\n",
            "(2553289, 14)\n",
            "(4361620, 12)\n",
            "(4361620, 14)\n"
          ]
        }
      ],
      "source": [
        "# Prepare the data for training\n",
        "\n",
        "# Drop unused signals\n",
        "y_train1 = E1.drop([\"angles_glove_4\", \"angles_glove_5\", \"angles_glove_8\", \"angles_glove_12\", \"angles_glove_16\", \"angles_glove_20\", \"angles_glove_21\", \"angles_glove_22\"], axis = 1)\n",
        "y_train2 = E2.drop([\"angles_glove_4\", \"angles_glove_5\", \"angles_glove_8\", \"angles_glove_12\", \"angles_glove_16\", \"angles_glove_20\", \"angles_glove_21\", \"angles_glove_22\"], axis = 1)\n",
        "\n",
        "# Merge Excersice 1 and 2\n",
        "y_train = pd.concat([y_train1 ,y_train2])\n",
        "X_train = pd.concat([emg1, emg2])\n",
        "\n",
        "print(y_train1.shape)\n",
        "print(y_train2.shape)\n",
        "\n",
        "print(X_train.shape)\n",
        "print(y_train.shape)\n",
        "\n",
        "# NOTE: I will use the collected data to fine tuning the model we are going to build so we don't need test data in this phase"
      ]
    },
    {
      "cell_type": "code",
      "execution_count": null,
      "metadata": {
        "id": "3b9ebBJDa4ST"
      },
      "outputs": [],
      "source": [
        "# Convert the Dataframe to Tensor\n",
        "train = torch.tensor(X_train.values.astype(np.float32))\n",
        "train_target = torch.tensor(y_train.values.astype(np.float32))\n",
        "\n",
        "train_data = TensorDataset(train, train_target)\n",
        "\n",
        "batch_size = 100000\n",
        "train_loader = DataLoader(train_data, batch_size=batch_size, shuffle=True)"
      ]
    },
    {
      "cell_type": "markdown",
      "metadata": {
        "id": "aO8J4BLGa4SU"
      },
      "source": [
        "## training"
      ]
    },
    {
      "cell_type": "markdown",
      "metadata": {
        "id": "nF-pf_Awa4SW"
      },
      "source": [
        "### DNN Approach"
      ]
    },
    {
      "cell_type": "code",
      "execution_count": null,
      "metadata": {
        "colab": {
          "base_uri": "https://localhost:8080/"
        },
        "id": "ZQ9SNUAIa4SX",
        "outputId": "17edbd74-12d8-46f8-b6da-f65dc8b0bf67"
      },
      "outputs": [
        {
          "name": "stdout",
          "output_type": "stream",
          "text": [
            "cuda\n",
            "1\n"
          ]
        }
      ],
      "source": [
        "# Define the device to work on\n",
        "device = torch.device('cuda') if torch.cuda.is_available() else torch.device('cpu')\n",
        "# device0 = torch.device('cuda:0')\n",
        "# device1 = torch.device('cuda:1')\n",
        "# device2 = torch.device('cuda:2')\n",
        "# device3 = torch.device('cuda:3')\n",
        "# !export CUDA_VISIBLE_DEVICES=0,1,2,3\n",
        "\n",
        "print(device)\n",
        "print(torch.cuda.device_count())"
      ]
    },
    {
      "cell_type": "code",
      "execution_count": null,
      "metadata": {
        "id": "osCV8D1Da4SY",
        "scrolled": true
      },
      "outputs": [],
      "source": [
        "class my_model(nn.Module):\n",
        "    def __init__(self):\n",
        "        super().__init__()\n",
        "        self.relu = nn.ReLU()\n",
        "        self.drop20 = nn.Dropout(0.2)\n",
        "        self.drop50 = nn.Dropout(0.5)\n",
        "        self.layer1 = nn.Linear(in_features = 12, out_features = 128)\n",
        "        self.layer2 = nn.Linear(in_features = 128, out_features = 256)\n",
        "        self.layer3 = nn.Linear(in_features = 256, out_features = 1024)\n",
        "        self.layer4 = nn.Linear(in_features = 1024, out_features = 4096)\n",
        "        self.layer5 = nn.Linear(in_features = 4096, out_features = 4096)\n",
        "        self.layer6 = nn.Linear(in_features = 4096, out_features = 2048)\n",
        "        self.layer7 = nn.Linear(in_features = 2048, out_features = 512)\n",
        "        self.layer8 = nn.Linear(in_features = 512, out_features = 14)\n",
        "\n",
        "    def forward(self, inp):\n",
        "        x = self.relu(self.layer1(inp))\n",
        "        x = self.relu(self.layer2(x))\n",
        "        x = self.drop20(x)\n",
        "        x = self.relu(self.layer3(x))\n",
        "        x = self.relu(self.layer4(x))\n",
        "        x = self.drop20(x)\n",
        "        x = self.relu(self.layer5(x))\n",
        "        x = self.drop50(x)\n",
        "        x = self.relu(self.layer6(x))\n",
        "        x = self.drop20(x)\n",
        "        x = self.relu(self.layer7(x))\n",
        "        x = self.layer8(x)\n",
        "        return (x)\n",
        "\n",
        "device = torch.device('cuda') if torch.cuda.is_available() else torch.device('cpu')\n",
        "\n",
        "# Build and define your model\n",
        "model = my_model()\n",
        "model.to(device)\n",
        "\n",
        "# Define the Loss function and the Optimizer\n",
        "loss_fn = nn.MSELoss()\n",
        "optimizer = torch.optim.Adam(params = model.parameters())\n",
        "\n",
        "# Specify the number of epochs\n",
        "epochs = 10\n",
        "\n",
        "# Instantiate lists to save the loss values during the training process\n",
        "train_loss_values = []\n",
        "test_loss_values = []\n",
        "epoch_count = []\n",
        "\n",
        "for epoch in range(epochs):\n",
        "\n",
        "    train_loss = 0\n",
        "\n",
        "    # Training mode\n",
        "    model.train()\n",
        "    for train_x, train_y in train_loader:\n",
        "\n",
        "        train_x = train_x.to(device)\n",
        "        train_y = train_y.to(device)\n",
        "\n",
        "        # Feedforward\n",
        "        y_pred = model(train_x)\n",
        "\n",
        "        # At the start of each ****** Epoch\n",
        "        optimizer.zero_grad()\n",
        "\n",
        "        # Calculate the loss function\n",
        "        loss = loss_fn(y_pred, train_y)\n",
        "        train_loss += loss\n",
        "\n",
        "        # Do the back probagation and update the parameters\n",
        "        loss.backward()\n",
        "        optimizer.step()\n",
        "\n",
        "    train_loss /= len(train_loader)\n",
        "\n",
        "    # Evaluation mode\n",
        "    model.eval()\n",
        "\n",
        "    # with torch.inference_mode():\n",
        "\n",
        "    #     loss_test = 0\n",
        "\n",
        "    #     for test_x, test_y in test_loader:\n",
        "\n",
        "    #         test_x, test_y = test_x.to(device), test_y.to(device)\n",
        "\n",
        "    #         # Feedforward again for the evaluation phase\n",
        "    #         y_pred_test = model(test_x)\n",
        "\n",
        "    #         # Calculate the loss for the test dataset\n",
        "    #         loss_test += loss_fn(y_pred_test, test_y)\n",
        "\n",
        "    #     loss_test /= len(test_loader)\n",
        "\n",
        "    # # Append loss values for the training process\n",
        "    train_loss_values.append(train_loss)\n",
        "    # test_loss_values.append(loss_test) # .cpu().detach().numpy()\n",
        "    epoch_count.append(epoch)\n",
        "    print(f\"Epoch : {epoch + 1} | train_Loss: {train_loss}\") # | test_Loss: {loss_test}\")"
      ]
    },
    {
      "cell_type": "code",
      "execution_count": null,
      "metadata": {
        "colab": {
          "base_uri": "https://localhost:8080/",
          "height": 727
        },
        "id": "NjEqnD_Ia4Sa",
        "outputId": "68618d78-2f2d-4a17-ab54-e12e2560f255"
      },
      "outputs": [
        {
          "data": {
            "image/png": "[encoded data removed]",
            "text/plain": [
              "<Figure size 800x800 with 1 Axes>"
            ]
          },
          "metadata": {},
          "output_type": "display_data"
        }
      ],
      "source": [
        "DNN_app = [train_loss_values[i].cpu().detach().numpy() for i in range(len(train_loss_values))]\n",
        "\n",
        "plt.figure(figsize = (8, 8))\n",
        "\n",
        "plt.plot(epoch_count, DNN_app, label = \"training loss\")\n",
        "\n",
        "plt.title(\"Training loss curve\")\n",
        "plt.xlabel(\"Epochs\")\n",
        "plt.ylabel(\"Loss\")\n",
        "\n",
        "plt.legend()\n",
        "plt.show()"
      ]
    },
    {
      "cell_type": "markdown",
      "metadata": {
        "id": "6qxNpXCMa4Se"
      },
      "source": [
        "### LSTM-CNN Approach"
      ]
    },
    {
      "cell_type": "code",
      "execution_count": null,
      "metadata": {
        "colab": {
          "background_save": true,
          "base_uri": "https://localhost:8080/"
        },
        "id": "WbB44Gs6a4Sf",
        "outputId": "6041a9a5-b9df-441d-93f0-c5e16485598b"
      },
      "outputs": [
        {
          "name": "stdout",
          "output_type": "stream",
          "text": [
            "(4361620, 1)\n"
          ]
        }
      ],
      "source": [
        "# Prepare the data for sequential modelling\n",
        "\n",
        "# Drop unused signals\n",
        "E01 = E1.drop([\"angles_glove_4\", \"angles_glove_5\", \"angles_glove_8\", \"angles_glove_12\", \"angles_glove_16\", \"angles_glove_20\", \"angles_glove_21\", \"angles_glove_22\"], axis = 1)\n",
        "E02 = E2.drop([\"angles_glove_4\", \"angles_glove_5\", \"angles_glove_8\", \"angles_glove_12\", \"angles_glove_16\", \"angles_glove_20\", \"angles_glove_21\", \"angles_glove_22\"], axis = 1)\n",
        "\n",
        "y_train = pd.concat([E01 ,E02])\n",
        "X_train = pd.concat([emg1, emg2])\n",
        "st = pd.concat([stimulus1, stimulus2])\n",
        "print(st.shape)\n",
        "\n",
        "inall = []\n",
        "indata = []\n",
        "outall = []\n",
        "outdata = []\n",
        "insti = []\n",
        "\n",
        "for i in range(stimulus1.shape[0]):\n",
        "    if (i == 0):\n",
        "        indata.append(np.array(X_train.iloc[i]))\n",
        "        outdata.append(np.array(y_train.iloc[i]))\n",
        "    elif (st.iloc[i].item() != st.iloc[i - 1].item()):\n",
        "        insti.append(stimulus1.iloc[i - 1])\n",
        "        inall.append(indata)\n",
        "        outall.append(outdata)\n",
        "        indata = []\n",
        "        outdata = []\n",
        "        indata.append(np.array(X_train.iloc[i]))\n",
        "        outdata.append(np.array(y_train.iloc[i]))\n",
        "    else:\n",
        "        indata.append(np.array(X_train.iloc[i]))\n",
        "        outdata.append(np.array(y_train.iloc[i]))"
      ]
    },
    {
      "cell_type": "markdown",
      "metadata": {
        "id": "uSjOKeu0a4Sf"
      },
      "source": [
        "### we can try two approaches padding to the maximum length and the other truncating to the smallest length"
      ]
    },
    {
      "cell_type": "code",
      "execution_count": null,
      "metadata": {
        "colab": {
          "base_uri": "https://localhost:8080/"
        },
        "id": "uj8jTIzDa4Sf",
        "outputId": "a2bf0349-3ff4-42b3-df7f-f642d5ed38ac"
      },
      "outputs": [
        {
          "name": "stdout",
          "output_type": "stream",
          "text": [
            "(203, 12246, 12)\n",
            "(203, 12246, 14)\n"
          ]
        }
      ],
      "source": [
        "# Determine the maximum sequence length\n",
        "max_length = max(len(seq) for seq in inall)\n",
        "\n",
        "# Pad the sequences with zeros\n",
        "padded_data = []\n",
        "for seq in inall:\n",
        "    padded_seq = np.zeros((max_length, seq[0].shape[0]))\n",
        "    padded_seq[:len(seq)] = seq\n",
        "    padded_data.append(padded_seq)\n",
        "\n",
        "# Convert the padded data into a NumPy array\n",
        "padded_data = np.array(padded_data)\n",
        "\n",
        "# Verify the shape of the padded data\n",
        "print(padded_data.shape)\n",
        "\n",
        "# Save the arrays to files\n",
        "np.save('X_train_padding.npy', padded_data)\n",
        "\n",
        "# Determine the maximum sequence length\n",
        "max_length = max(len(seq) for seq in outall)\n",
        "\n",
        "# Pad the sequences with zeros\n",
        "padded_data = []\n",
        "for seq in outall:\n",
        "    padded_seq = np.zeros((max_length, seq[0].shape[0]))\n",
        "    padded_seq[:len(seq)] = seq\n",
        "    padded_data.append(padded_seq)\n",
        "\n",
        "# Convert the padded data into a NumPy array\n",
        "padded_data = np.array(padded_data)\n",
        "\n",
        "# Verify the shape of the padded data\n",
        "print(padded_data.shape)\n",
        "\n",
        "# Save the arrays to files\n",
        "np.save('y_train_padding.npy', padded_data)"
      ]
    },
    {
      "cell_type": "code",
      "execution_count": null,
      "metadata": {
        "colab": {
          "base_uri": "https://localhost:8080/"
        },
        "id": "qSYuEr7La4Sg",
        "outputId": "5883069e-9b1d-46d7-ff72-e03cad0a1922"
      },
      "outputs": [
        {
          "name": "stdout",
          "output_type": "stream",
          "text": [
            "(203, 6498, 12)\n",
            "(203, 6498, 14)\n"
          ]
        }
      ],
      "source": [
        "# Determine the minimum sequence length\n",
        "min_length = min(len(seq) for seq in inall)\n",
        "\n",
        "# Truncate the sequences with excess length\n",
        "truncated_data = []\n",
        "for seq in inall:\n",
        "    truncated_seq = seq[:min_length]\n",
        "    truncated_data.append(truncated_seq)\n",
        "\n",
        "# Convert the Truncate data into a NumPy array\n",
        "truncated_data = np.array(truncated_data)\n",
        "\n",
        "# Verify the shape of the padded data\n",
        "print(truncated_data.shape)\n",
        "\n",
        "# Save the arrays to files\n",
        "np.save('X_train_truncating.npy', truncated_data)\n",
        "\n",
        "# Determine the minimum sequence length\n",
        "min_length = min(len(seq) for seq in outall)\n",
        "\n",
        "# Truncate the sequences with excess length\n",
        "truncated_data = []\n",
        "for seq in outall:\n",
        "    truncated_seq = seq[:min_length]\n",
        "    truncated_data.append(truncated_seq)\n",
        "\n",
        "# Convert the Truncate data into a NumPy array\n",
        "truncated_data = np.array(truncated_data)\n",
        "\n",
        "# Verify the shape of the padded data\n",
        "print(truncated_data.shape)\n",
        "\n",
        "# Save the arrays to files\n",
        "np.save('y_train_truncating.npy', truncated_data)"
      ]
    },
    {
      "cell_type": "code",
      "execution_count": null,
      "metadata": {
        "colab": {
          "base_uri": "https://localhost:8080/"
        },
        "id": "3yQyTdWMn1AB",
        "outputId": "f14428c8-2706-4e29-e63e-f4a1640755bb"
      },
      "outputs": [
        {
          "name": "stdout",
          "output_type": "stream",
          "text": [
            "(203, 10873, 12)\n",
            "(203, 10873, 14)\n"
          ]
        }
      ],
      "source": [
        "# Define the target sequence length\n",
        "target_length = 10873\n",
        "\n",
        "# Truncate or pad the sequences accordingly\n",
        "modified_data = []\n",
        "for seq in inall:\n",
        "  if len(seq) > target_length:\n",
        "    # Truncate the sequence\n",
        "    modified_seq = seq[:target_length]\n",
        "  elif len(seq) < target_length:\n",
        "    # Pad the sequence with zeros\n",
        "    modified_seq = np.zeros((target_length, seq[0].shape[0]))\n",
        "    modified_seq[:len(seq)] = seq\n",
        "  else:\n",
        "    # Keep the sequence as it is\n",
        "    modified_seq = seq\n",
        "  modified_data.append(modified_seq)\n",
        "\n",
        "# Convert the modified data into a NumPy array\n",
        "modified_data = np.array(modified_data)\n",
        "\n",
        "# Verify the shape of the modified data\n",
        "print(modified_data.shape)\n",
        "\n",
        "# Save the arrays to files\n",
        "np.save('x_train_modified.npy', modified_data)\n",
        "\n",
        "# Define the target sequence length\n",
        "target_length = 10873\n",
        "\n",
        "# Truncate or pad the sequences accordingly\n",
        "modified_data = []\n",
        "for seq in outall:\n",
        "  if len(seq) > target_length:\n",
        "    # Truncate the sequence\n",
        "    modified_seq = seq[:target_length]\n",
        "  elif len(seq) < target_length:\n",
        "    # Pad the sequence with zeros\n",
        "    modified_seq = np.zeros((target_length, seq[0].shape[0]))\n",
        "    modified_seq[:len(seq)] = seq\n",
        "  else:\n",
        "    # Keep the sequence as it is\n",
        "    modified_seq = seq\n",
        "  modified_data.append(modified_seq)\n",
        "\n",
        "# Convert the modified data into a NumPy array\n",
        "modified_data = np.array(modified_data)\n",
        "\n",
        "# Verify the shape of the modified data\n",
        "print(modified_data.shape)\n",
        "\n",
        "# Save the arrays to files\n",
        "np.save('y_train_modified.npy', modified_data)"
      ]
    },
    {
      "cell_type": "code",
      "execution_count": null,
      "metadata": {
        "id": "gUXHBRSea4Sh"
      },
      "outputs": [],
      "source": [
        "# Define the input shape\n",
        "input_shape = (12246, 12)\n",
        "\n",
        "# Define the number of output features\n",
        "output_features = 14\n",
        "\n",
        "# Create a custom LSTM model\n",
        "class LSTMModel(nn.Module):\n",
        "    def __init__(self, input_shape, output_features):\n",
        "        super(LSTMModel, self).__init__()\n",
        "        self.lstm1 = nn.LSTM(input_shape[1], 32, bidirectional = True)           # bidirectional = True\n",
        "        self.lstm2 = nn.LSTM(64, 128, bidirectional = True)\n",
        "        self.lstm3 = nn.LSTM(256, 256)\n",
        "        self.fc_h1 = nn.Linear(256, 512)\n",
        "        self.fc_h2 = nn.Linear(512, 2048)\n",
        "        self.fc_h3 = nn.Linear(2048, 4096)\n",
        "        self.fc_h4 = nn.Linear(4096, 4096)\n",
        "        self.fc_h5 = nn.Linear(4096, 4096)\n",
        "        self.fc_h6 = nn.Linear(4096, 1024)\n",
        "        self.fc_h7 = nn.Linear(1024, 256)\n",
        "        self.fc = nn.Linear(256, output_features)\n",
        "        self.relu = nn.ReLU()\n",
        "\n",
        "    def forward(self, x):\n",
        "        x, _ = self.lstm1(x)\n",
        "        x, _ = self.lstm2(x)\n",
        "        x, _ = self.lstm3(x)\n",
        "        x = self.relu(self.fc_h1(x))\n",
        "        x = self.relu(self.fc_h2(x))\n",
        "        x = self.relu(self.fc_h3(x))\n",
        "        x = self.relu(self.fc_h4(x))\n",
        "        x = self.relu(self.fc_h5(x))\n",
        "        x = self.relu(self.fc_h6(x))\n",
        "        x = self.relu(self.fc_h7(x))\n",
        "        x = self.relu(self.fc(x))\n",
        "        return x"
      ]
    },
    {
      "cell_type": "code",
      "execution_count": null,
      "metadata": {
        "id": "vhHKMOqaa4Sh"
      },
      "outputs": [],
      "source": [
        "# Instantiate the model\n",
        "model = LSTMModel(input_shape, output_features).to('cuda')\n",
        "\n",
        "# Define the loss function and optimizer\n",
        "criterion = nn.MSELoss()\n",
        "optimizer = torch.optim.Adam(model.parameters())\n",
        "\n",
        "# Load your input and output data\n",
        "x_train = np.load(\"X_train_truncating.npy\")\n",
        "y_train = np.load(\"y_train_truncating.npy\")\n",
        "\n",
        "# Convert the data to PyTorch tensors\n",
        "x_train = torch.tensor(x_train).float()\n",
        "y_train = torch.tensor(y_train).float()\n",
        "\n",
        "train_data = TensorDataset(x_train, y_train)\n",
        "\n",
        "batch_size = 4\n",
        "train_loader = DataLoader(train_data, batch_size=batch_size, shuffle=True)\n",
        "print(len(train_loader))"
      ]
    },
    {
      "cell_type": "code",
      "execution_count": null,
      "metadata": {
        "id": "dW0X-xT9a4Si"
      },
      "outputs": [],
      "source": [
        "lstm_app = []\n",
        "epoch_count = []\n",
        "\n",
        "# Train the model for 10 epochs\n",
        "for epoch in range(10):\n",
        "    train_loss = 0\n",
        "    for x_train, y_train in train_loader:\n",
        "\n",
        "        x_train, y_train = x_train.to('cuda'), y_train.to('cuda')\n",
        "\n",
        "        # Zero the gradients\n",
        "        optimizer.zero_grad()\n",
        "\n",
        "        # Forward pass\n",
        "        y_pred = model(x_train)\n",
        "\n",
        "        # Compute the loss\n",
        "        loss = criterion(y_pred, y_train.to(y_pred.device))\n",
        "        train_loss += loss\n",
        "\n",
        "        # Backward pass\n",
        "        loss.backward()\n",
        "\n",
        "        # Update the weights\n",
        "        optimizer.step()\n",
        "    train_loss /= len(train_loader)\n",
        "\n",
        "    # Print the loss\n",
        "    print(f'Epoch: {epoch+1}, Loss: {train_loss:.4f}')\n",
        "    lstm_app.append(train_loss)\n",
        "    epoch_count.append(epoch)"
      ]
    },
    {
      "cell_type": "code",
      "execution_count": null,
      "metadata": {
        "id": "oMD0JoiSpRGA"
      },
      "outputs": [],
      "source": [
        "# Instantiate the model\n",
        "model = LSTMModel(input_shape, output_features).to('cuda')\n",
        "\n",
        "# Define the loss function and optimizer\n",
        "criterion = nn.MSELoss()\n",
        "optimizer = torch.optim.Adam(model.parameters())\n",
        "\n",
        "# Load your input and output data\n",
        "x_train = np.load(\"x_train_modified.npy\")\n",
        "y_train = np.load(\"y_train_modified.npy\")\n",
        "\n",
        "# Convert the data to PyTorch tensors\n",
        "x_train = torch.tensor(x_train).float()\n",
        "y_train = torch.tensor(y_train).float()\n",
        "\n",
        "train_data = TensorDataset(x_train, y_train)\n",
        "\n",
        "batch_size = 4\n",
        "train_loader = DataLoader(train_data, batch_size=batch_size, shuffle=True)\n",
        "print(len(train_loader))\n",
        "\n",
        "lstm_app = []\n",
        "epoch_count = []\n",
        "\n",
        "# Train the model for 10 epochs\n",
        "for epoch in range(10):\n",
        "    train_loss = 0\n",
        "    for x_train, y_train in train_loader:\n",
        "\n",
        "        x_train, y_train = x_train.to('cuda'), y_train.to('cuda')\n",
        "\n",
        "        # Zero the gradients\n",
        "        optimizer.zero_grad()\n",
        "\n",
        "        # Forward pass\n",
        "        y_pred = model(x_train)\n",
        "\n",
        "        # Compute the loss\n",
        "        loss = criterion(y_pred, y_train.to(y_pred.device))\n",
        "        train_loss += loss\n",
        "\n",
        "        # Backward pass\n",
        "        loss.backward()\n",
        "\n",
        "        # Update the weights\n",
        "        optimizer.step()\n",
        "    train_loss /= len(train_loader)\n",
        "\n",
        "    # Print the loss\n",
        "    print(f'Epoch: {epoch+1}, Loss: {train_loss:.4f}')\n",
        "    lstm_app.append(train_loss)\n",
        "    epoch_count.append(epoch)"
      ]
    },
    {
      "cell_type": "code",
      "execution_count": null,
      "metadata": {
        "id": "B6YnFbfSa4Sj"
      },
      "outputs": [],
      "source": [
        "lstm_app = [s.cpu().detach().numpy() for s in lstm_app]"
      ]
    },
    {
      "cell_type": "code",
      "execution_count": null,
      "metadata": {
        "id": "rgYUc7zca4Sj",
        "outputId": "feaca7d8-23f7-4992-8d00-08fd673dfabb"
      },
      "outputs": [
        {
          "data": {
            "image/png": "[encoded data removed]",
            "text/plain": [
              "<Figure size 800x800 with 1 Axes>"
            ]
          },
          "metadata": {},
          "output_type": "display_data"
        }
      ],
      "source": [
        "# Plot the loss curves\n",
        "plt.figure(figsize = (8, 8))\n",
        "plt.plot(epoch_count, lstm_app, label = \"LSTM-DNN\")\n",
        "plt.plot(epoch_count, DNN_app, label = \"DNN\")\n",
        "plt.title(\"Training loss curves\")\n",
        "plt.xlabel(\"Epochs\")\n",
        "plt.ylabel(\"Loss\")\n",
        "plt.legend()\n",
        "plt.show()"
      ]
    },
    {
      "cell_type": "code",
      "execution_count": null,
      "metadata": {
        "id": "ApxnIAKja4Sj"
      },
      "outputs": [],
      "source": [
        "# Create a custom CNN model\n",
        "class CNNModel(nn.Module):\n",
        "    def __init__(self, input_shape, output_features):\n",
        "        super(CNNModel, self).__init__()\n",
        "        self.conv1 = nn.Conv1d(input_shape[1], 32, kernel_size=3, padding=1)\n",
        "        self.conv2 = nn.Conv1d(32, 128, kernel_size=3, padding=1)\n",
        "        self.conv3 = nn.Conv1d(128, 512, kernel_size=3, padding=1)\n",
        "\n",
        "        self.fc_h1 = nn.Linear(input_shape[0] * 512,  512)\n",
        "        self.fc_h2 = nn.Linear(512, 2048)\n",
        "        self.fc_h3 = nn.Linear(2048, 4096)\n",
        "        self.fc_h4 = nn.Linear(4096, 4096)\n",
        "        self.fc_h5 = nn.Linear(4096, 4096)\n",
        "        self.fc_h6 = nn.Linear(4096, 1024)\n",
        "        self.fc_h7 = nn.Linear(1024, 256)\n",
        "        self.fc = nn.Linear(256, output_features)\n",
        "        self.relu = nn.ReLU()\n",
        "\n",
        "    def forward(self, x):\n",
        "        x = x.transpose(1, 2)\n",
        "        x = self.conv1(x)\n",
        "        x = self.conv2(x)\n",
        "        x = self.conv3(x)\n",
        "        x = x.view(x.size(0), -1)\n",
        "        print(x.size(0))\n",
        "\n",
        "        x = self.relu(self.fc_h1(x))\n",
        "        x = self.relu(self.fc_h2(x))\n",
        "        x = self.relu(self.fc_h3(x))\n",
        "        x = self.relu(self.fc_h4(x))\n",
        "        x = self.relu(self.fc_h5(x))\n",
        "        x = self.relu(self.fc_h6(x))\n",
        "        x = self.relu(self.fc_h7(x))\n",
        "        x = self.relu(self.fc(x))\n",
        "        return x\n",
        "\n",
        "# Create a custom LSTM-CNN model\n",
        "class LSTMCNNModel(nn.Module):\n",
        "    def __init__(self, input_shape, output_features):\n",
        "        super(LSTMCNNModel, self).__init__()\n",
        "        self.lstm = nn.LSTM(input_shape[1], 32)\n",
        "        self.conv1 = nn.Conv1d(32, 64, kernel_size=3, padding=1)\n",
        "        self.fc = nn.Linear(input_shape[0] * 64, output_features)\n",
        "\n",
        "    def forward(self, x):\n",
        "        x, _ = self.lstm(x)\n",
        "        x = x.transpose(1, 2)\n",
        "        x = self.conv1(x)\n",
        "        x = x.view(x.size(0), -1)\n",
        "        x = self.fc(x)\n",
        "        return x"
      ]
    },
    {
      "cell_type": "code",
      "execution_count": null,
      "metadata": {
        "id": "6Fm_fSxsa4Sk"
      },
      "outputs": [],
      "source": [
        "model = CNNModel(input_shape, output_features).to('cuda')\n",
        "\n",
        "cnn_app = []\n",
        "epoch_count = []\n",
        "\n",
        "# Train the model for 10 epochs\n",
        "for epoch in range(10):\n",
        "    train_loss = 0\n",
        "    for x_train, y_train in train_loader:\n",
        "\n",
        "        x_train, y_train = x_train.to('cuda'), y_train.to('cuda')\n",
        "\n",
        "        # Zero the gradients\n",
        "        optimizer.zero_grad()\n",
        "\n",
        "        # Forward pass\n",
        "        y_pred = model(x_train)\n",
        "\n",
        "        # Compute the loss\n",
        "        loss = criterion(y_pred, y_train.to(y_pred.device))\n",
        "        train_loss += loss\n",
        "\n",
        "        # Backward pass\n",
        "        loss.backward()\n",
        "\n",
        "        # Update the weights\n",
        "        optimizer.step()\n",
        "    train_loss /= len(train_loader)\n",
        "\n",
        "    # Print the loss\n",
        "    print(f'Epoch: {epoch+1}, Loss: {train_loss:.4f}')\n",
        "    cnn_app.append(train_loss.cpu().detach().numpy())\n",
        "    epoch_count.append(epoch)"
      ]
    },
    {
      "cell_type": "code",
      "execution_count": null,
      "metadata": {
        "colab": {
          "base_uri": "https://localhost:8080/"
        },
        "id": "CD5Lh9RuKp3d",
        "outputId": "822422e5-07b8-42fb-8934-3b8c07a4b4a1"
      },
      "outputs": [
        {
          "name": "stdout",
          "output_type": "stream",
          "text": [
            "51\n",
            "Epoch: 1, Loss: 1114.9314\n",
            "Epoch: 2, Loss: 913.8965\n",
            "Epoch: 3, Loss: 934.9475\n",
            "Epoch: 4, Loss: 929.2332\n",
            "Epoch: 5, Loss: 937.7763\n",
            "Epoch: 6, Loss: 944.0383\n",
            "Epoch: 7, Loss: 935.8925\n",
            "Epoch: 8, Loss: 920.5425\n",
            "Epoch: 9, Loss: 934.9781\n",
            "Epoch: 10, Loss: 910.0216\n"
          ]
        }
      ],
      "source": [
        "# Instantiate the model\n",
        "model = LSTMModel(input_shape, output_features).to('cuda')\n",
        "\n",
        "# Define the loss function and optimizer\n",
        "criterion = nn.MSELoss()\n",
        "optimizer = torch.optim.Adam(model.parameters())\n",
        "\n",
        "# Load your input and output data\n",
        "x_train = np.load(\"x_train_modified.npy\")\n",
        "y_train = np.load(\"y_train_modified.npy\")\n",
        "\n",
        "# Convert the data to PyTorch tensors\n",
        "x_train = torch.tensor(x_train).float()\n",
        "y_train = torch.tensor(y_train).float()\n",
        "\n",
        "train_data = TensorDataset(x_train, y_train)\n",
        "\n",
        "batch_size = 4\n",
        "train_loader = DataLoader(train_data, batch_size=batch_size, shuffle=True)\n",
        "print(len(train_loader))\n",
        "\n",
        "lstm_app = []\n",
        "epoch_count = []\n",
        "\n",
        "# Train the model for 10 epochs\n",
        "for epoch in range(10):\n",
        "    train_loss = 0\n",
        "    for x_train, y_train in train_loader:\n",
        "\n",
        "        x_train, y_train = x_train.to('cuda'), y_train.to('cuda')\n",
        "\n",
        "        # Zero the gradients\n",
        "        optimizer.zero_grad()\n",
        "\n",
        "        # Forward pass\n",
        "        y_pred = model(x_train)\n",
        "\n",
        "        # Compute the loss\n",
        "        loss = criterion(y_pred, y_train.to(y_pred.device))\n",
        "        train_loss += loss\n",
        "\n",
        "        # Backward pass\n",
        "        loss.backward()\n",
        "\n",
        "        # Update the weights\n",
        "        optimizer.step()\n",
        "    train_loss /= len(train_loader)\n",
        "\n",
        "    # Print the loss\n",
        "    print(f'Epoch: {epoch+1}, Loss: {train_loss:.4f}')\n",
        "    lstm_app.append(train_loss)\n",
        "    epoch_count.append(epoch)"
      ]
    },
    {
      "cell_type": "markdown",
      "metadata": {
        "id": "TenQ23h9a4Sl"
      },
      "source": [
        "## We can try some manifold methods to represent the input data"
      ]
    },
    {
      "cell_type": "code",
      "execution_count": null,
      "metadata": {
        "colab": {
          "base_uri": "https://localhost:8080/"
        },
        "id": "EpHDfsG8a4Sl",
        "outputId": "513b46df-ab50-4854-aee7-4dc08f0164a5"
      },
      "outputs": [
        {
          "name": "stdout",
          "output_type": "stream",
          "text": [
            "(4361620, 12)\n",
            "(3961620, 12)\n",
            "(400000, 12)\n"
          ]
        }
      ],
      "source": [
        "# Prepare the data for training\n",
        "\n",
        "# Merge Excersice 1 and 2\n",
        "X_train = pd.concat([emg1, emg2])\n",
        "\n",
        "print(X_train.shape)\n",
        "\n",
        "X_test1 = X_train.iloc[:200000,:]\n",
        "X_test2 = X_train.iloc[-200000:,:]\n",
        "X_test = pd.concat([X_test1, X_test2])\n",
        "\n",
        "X_train = X_train.iloc[200000:,:].iloc[:-200000,:]\n",
        "\n",
        "print(X_train.shape)\n",
        "print(X_test.shape)\n",
        "\n",
        "# Convert the Dataframe to Tensor\n",
        "train = torch.tensor(X_train.values.astype(np.float32))\n",
        "test = torch.tensor(X_test.values.astype(np.float32))\n",
        "\n",
        "# the input is the same as the output\n",
        "train_data = TensorDataset(train, train)\n",
        "test_data = TensorDataset(test, test)\n",
        "\n",
        "batch_size = 100000\n",
        "train_loader = DataLoader(train_data, batch_size=batch_size, shuffle=True)\n",
        "test_loader = DataLoader(test_data, batch_size=batch_size, shuffle=True)"
      ]
    },
    {
      "cell_type": "code",
      "execution_count": null,
      "metadata": {
        "collapsed": true,
        "id": "KcRQe3gha4Sl"
      },
      "outputs": [],
      "source": [
        "# In future we need to use non-linear activation function and see the resulting representation of the data in the latent spcase\n",
        "# in case using linear activation function the result will be as PCA\n",
        "class my_model(nn.Module):\n",
        "    def __init__(self):\n",
        "        super().__init__()\n",
        "        self.relu = nn.ReLU()\n",
        "        self.layer1 = nn.Linear(in_features = 12, out_features = 256)\n",
        "        self.layer2 = nn.Linear(in_features = 256, out_features = 128)\n",
        "        self.layer3 = nn.Linear(in_features = 128, out_features = 64)\n",
        "        self.layer4 = nn.Linear(in_features = 64, out_features = 8)\n",
        "        self.layer5 = nn.Linear(in_features = 8, out_features = 64)\n",
        "        self.layer6 = nn.Linear(in_features = 64, out_features = 128)\n",
        "        self.layer7 = nn.Linear(in_features = 128, out_features = 256)\n",
        "        self.layer8 = nn.Linear(in_features = 256, out_features = 12)\n",
        "\n",
        "    def forward(self, inp):\n",
        "        x = self.relu(self.layer1(inp))\n",
        "        x = self.relu(self.layer2(x))\n",
        "        x = self.relu(self.layer3(x))\n",
        "        x = self.relu(self.layer4(x))\n",
        "        x = self.relu(self.layer5(x))\n",
        "        x = self.relu(self.layer6(x))\n",
        "        x = self.relu(self.layer7(x))\n",
        "        x = self.layer8(x)\n",
        "        return (x)\n",
        "\n",
        "device = torch.device('cuda') if torch.cuda.is_available() else torch.device('cpu')\n",
        "\n",
        "# Build and define your model\n",
        "model = my_model()\n",
        "model.to(device)\n",
        "\n",
        "# Define the Loss function and the Optimizer\n",
        "loss_fn = nn.MSELoss()\n",
        "optimizer = torch.optim.Adam(params = model.parameters())\n",
        "\n",
        "# Specify the number of epochs\n",
        "epochs = 10\n",
        "\n",
        "# Instantiate lists to save the loss values during the training process\n",
        "train_loss_values = []\n",
        "test_loss_values = []\n",
        "epoch_count = []\n",
        "\n",
        "for epoch in range(epochs):\n",
        "\n",
        "    # Training mode\n",
        "    model.train()\n",
        "\n",
        "    train_x = train.to(device)\n",
        "    train_y = train.to(device)\n",
        "\n",
        "    # Feedforward\n",
        "    y_pred = model(train_x)\n",
        "\n",
        "    # At the start of each ****** Epoch\n",
        "    optimizer.zero_grad()\n",
        "\n",
        "    # Calculate the loss function\n",
        "    train_loss = loss_fn(y_pred, train_y)\n",
        "\n",
        "    # Do the back probagation and update the parameters\n",
        "    train_loss.backward()\n",
        "    optimizer.step()\n",
        "\n",
        "    # Evaluation mode\n",
        "    model.eval()\n",
        "\n",
        "    with torch.inference_mode():\n",
        "\n",
        "        test_x, test_y = test.to(device), test.to(device)\n",
        "\n",
        "        # Feedforward again for the evaluation phase\n",
        "        y_pred_test = model(test_x)\n",
        "\n",
        "        # Calculate the loss for the test dataset\n",
        "        loss_test = loss_fn(y_pred_test, test_y)\n",
        "\n",
        "    # Append loss values for the training process\n",
        "    train_loss_values.append(train_loss.cpu().detach().numpy())\n",
        "    test_loss_values.append(loss_test.cpu().detach().numpy())\n",
        "    epoch_count.append(epoch)\n",
        "    print(f\"Epoch : {epoch + 1} | train_Loss: {train_loss} | test_Loss: {loss_test}\")"
      ]
    },
    {
      "cell_type": "code",
      "execution_count": null,
      "metadata": {
        "collapsed": true,
        "id": "vyMgbHWZa4Sm"
      },
      "outputs": [],
      "source": [
        "# Plot the loss curves\n",
        "plt.figure(figsize = (8, 8))\n",
        "plt.plot(epoch_count, train_loss_values, label = \"training loss\")\n",
        "plt.plot(epoch_count, test_loss_values, label = \"testing loss\")\n",
        "plt.title(\"Training and Test loss curves\")\n",
        "plt.xlabel(\"Epochs\")\n",
        "plt.ylabel(\"Loss\")\n",
        "plt.legend()\n",
        "plt.show()"
      ]
    },
    {
      "cell_type": "code",
      "execution_count": null,
      "metadata": {
        "collapsed": true,
        "id": "P_SHSJqZa4Sm"
      },
      "outputs": [],
      "source": [
        "class my_model(nn.Module):\n",
        "    def __init__(self):\n",
        "        super().__init__()\n",
        "        self.relu = nn.ReLU()\n",
        "        self.layer1 = nn.Linear(in_features = 12, out_features = 256)\n",
        "        self.layer2 = nn.Linear(in_features = 256, out_features = 128)\n",
        "        self.layer3 = nn.Linear(in_features = 128, out_features = 64)\n",
        "        self.layer4 = nn.Linear(in_features = 64, out_features = 8)\n",
        "        self.layer5 = nn.Linear(in_features = 8, out_features = 64)\n",
        "        self.layer6 = nn.Linear(in_features = 64, out_features = 128)\n",
        "        self.layer7 = nn.Linear(in_features = 128, out_features = 256)\n",
        "        self.layer8 = nn.Linear(in_features = 256, out_features = 12)\n",
        "\n",
        "    def forward(self, inp):\n",
        "        x = self.relu(self.layer1(inp))\n",
        "        x = self.relu(self.layer2(x))\n",
        "        x = self.relu(self.layer3(x))\n",
        "        x = self.relu(self.layer4(x))\n",
        "        x = self.relu(self.layer5(x))\n",
        "        x = self.relu(self.layer6(x))\n",
        "        x = self.relu(self.layer7(x))\n",
        "        x = self.layer8(x)\n",
        "        return (x)\n",
        "\n",
        "# Build and define your model\n",
        "model = my_model()\n",
        "model.to(device0)\n",
        "model = nn.DataParallel(model)\n",
        "\n",
        "# Define the Loss function and the Optimizer\n",
        "loss_fn = nn.MSELoss()\n",
        "optimizer = torch.optim.Adam(params = model.parameters())\n",
        "\n",
        "# Specify the number of epochs\n",
        "epochs = 10\n",
        "\n",
        "# Instantiate lists to save the loss values during the training process\n",
        "train_loss_values = []\n",
        "test_loss_values = []\n",
        "epoch_count = []\n",
        "\n",
        "for epoch in range(epochs):\n",
        "\n",
        "    # Training mode\n",
        "    model.train()\n",
        "\n",
        "    # Feedforward\n",
        "    y_pred = model(train.to(device0))\n",
        "\n",
        "    # At start of each Epoch\n",
        "    optimizer.zero_grad()\n",
        "\n",
        "    # Calculate the loss function\n",
        "    loss = loss_fn(y_pred, train.to(device0))\n",
        "\n",
        "    # Do the back probagation and update the parameters\n",
        "    loss.backward()\n",
        "    optimizer.step()\n",
        "\n",
        "    # Evaluation mode\n",
        "    model.eval()\n",
        "\n",
        "    with torch.inference_mode():\n",
        "\n",
        "        # Feedforward again for the evaluation phase\n",
        "        y_pred_test = model(test.to(device0))\n",
        "\n",
        "        # Calculate the loss for the test dataset\n",
        "        loss_test = loss_fn(y_pred_test, test.to(device0))\n",
        "\n",
        "    # Append loss values for the training process\n",
        "    train_loss_values.append(loss.cpu().detach().numpy())\n",
        "    test_loss_values.append(loss_test.cpu().detach().numpy())\n",
        "    epoch_count.append(epoch)\n",
        "    print(f\"Epoch : {epoch + 1} | train_Loss: {loss} | test_Loss: {loss_test}\")"
      ]
    },
    {
      "cell_type": "code",
      "execution_count": null,
      "metadata": {
        "colab": {
          "base_uri": "https://localhost:8080/"
        },
        "id": "bjWGnjXMGBk4",
        "outputId": "9c30a449-a513-40e0-b610-f296ee731940"
      },
      "outputs": [
        {
          "data": {
            "text/plain": [
              "tensor(4)"
            ]
          },
          "execution_count": 23,
          "metadata": {},
          "output_type": "execute_result"
        }
      ],
      "source": []
    },
    {
      "cell_type": "code",
      "execution_count": null,
      "metadata": {
        "colab": {
          "base_uri": "https://localhost:8080/"
        },
        "id": "yc1hN9sOFrdy",
        "outputId": "7d4c7495-0f2b-4fe7-874a-b33c6e382e94"
      },
      "outputs": [
        {
          "data": {
            "text/plain": [
              "tensor(0.7616)"
            ]
          },
          "execution_count": 28,
          "metadata": {},
          "output_type": "execute_result"
        }
      ],
      "source": [
        "torch.tanh(torch.tensor(1))"
      ]
    },
    {
      "cell_type": "code",
      "execution_count": null,
      "metadata": {
        "id": "EKhvvEA1a4Sn"
      },
      "outputs": [],
      "source": [
        "class my_model(nn.Module):\n",
        "    def __init__(self):\n",
        "        super().__init__()\n",
        "        self.relu = nn.ReLU()\n",
        "        self.layer1 = nn.Linear(in_features = 12, out_features = 256)\n",
        "        self.layer2 = nn.Linear(in_features = 256, out_features = 128)\n",
        "        self.layer3 = nn.Linear(in_features = 128, out_features = 64)\n",
        "        self.layer4 = nn.Linear(in_features = 64, out_features = 2)\n",
        "        self.layer5 = nn.Linear(in_features = 2, out_features = 64)\n",
        "        self.layer6 = nn.Linear(in_features = 64, out_features = 128)\n",
        "        self.layer7 = nn.Linear(in_features = 128, out_features = 256)\n",
        "        self.layer8 = nn.Linear(in_features = 256, out_features = 12)\n",
        "        self.encoder = nn.Sequential(\n",
        "            self.layer1,\n",
        "            self.relu,\n",
        "            self.layer2,\n",
        "            self.relu,\n",
        "            self.layer3,\n",
        "            self.relu,\n",
        "            self.layer4,\n",
        "            self.relu,\n",
        "        )\n",
        "        self.decoder = nn.Sequential(\n",
        "            self.layer5,\n",
        "            self.relu,\n",
        "            self.layer6,\n",
        "            self.relu,\n",
        "            self.layer7,\n",
        "            self.relu,\n",
        "            self.layer8,\n",
        "            self.relu,\n",
        "        )\n",
        "    def forward(self, inp):\n",
        "        # x = self.relu(self.layer1(inp))\n",
        "        # x = self.relu(self.layer2(x))\n",
        "        # x = self.relu(self.layer3(x))\n",
        "        # x = self.relu(self.layer4(x))\n",
        "        # x = self.relu(self.layer5(x))\n",
        "        # x = self.relu(self.layer6(x))\n",
        "        # x = self.relu(self.layer7(x))\n",
        "        # x = self.layer8(x)\n",
        "        x = self.encoder(inp)\n",
        "        x = self.decoder(x)\n",
        "        return (x)\n",
        "\n",
        "device0 = 'cuda'\n",
        "\n",
        "# Build and define your model\n",
        "model = my_model()\n",
        "model.to(device0)\n",
        "model = nn.DataParallel(model)\n",
        "\n",
        "# Define the Loss function and the Optimizer\n",
        "loss_fn = nn.MSELoss()\n",
        "optimizer = torch.optim.Adam(params = model.parameters())\n",
        "\n",
        "# Specify the number of epochs\n",
        "epochs = 10\n",
        "\n",
        "# Instantiate lists to save the loss values during the training process\n",
        "train_loss_values = []\n",
        "test_loss_values = []\n",
        "epoch_count = []\n",
        "\n",
        "for epoch in range(epochs):\n",
        "\n",
        "    train_loss = 0\n",
        "    for train_x, train_y in train_loader:\n",
        "\n",
        "        train_x, train_y = train_x.to(device0), train_y.to(device0)\n",
        "        # Training mode\n",
        "        model.train()\n",
        "\n",
        "        # Feedforward\n",
        "        y_pred = model(train_x)\n",
        "\n",
        "        # At start of each Epoch\n",
        "        optimizer.zero_grad()\n",
        "\n",
        "        # Calculate the loss function\n",
        "        loss = loss_fn(y_pred, train_y)\n",
        "        train_loss += loss\n",
        "\n",
        "        # Do the back probagation and update the parameters\n",
        "        loss.backward()\n",
        "        optimizer.step()\n",
        "\n",
        "    train_loss /= len(train_loader)\n",
        "\n",
        "    # Evaluation mode\n",
        "    model.eval()\n",
        "\n",
        "    loss_test = 0\n",
        "    with torch.inference_mode():\n",
        "        for test_x, test_y in test_loader:\n",
        "            test_x, test_y = test_x.to(device0), test_y.to(device0)\n",
        "\n",
        "            # Feedforward again for the evaluation phase\n",
        "            y_pred_test = model(test_x)\n",
        "\n",
        "            # Calculate the loss for the test dataset\n",
        "            loss_test += loss_fn(y_pred_test, test_y)\n",
        "\n",
        "        loss_test /= len(test_loader)\n",
        "\n",
        "    # Append loss values for the training process\n",
        "    train_loss_values.append(loss.cpu().detach().numpy())\n",
        "    test_loss_values.append(loss_test)\n",
        "    epoch_count.append(epoch)\n",
        "    print(f\"Epoch : {epoch + 1} | train_Loss: {loss} | test_Loss: {loss_test}\")"
      ]
    },
    {
      "cell_type": "code",
      "execution_count": null,
      "metadata": {
        "id": "e8bVh3JDIpAG"
      },
      "outputs": [],
      "source": [
        "coding = model.module.encoder(train.to('cuda'))"
      ]
    },
    {
      "cell_type": "code",
      "execution_count": null,
      "metadata": {
        "id": "gg80iR0TIzCL"
      },
      "outputs": [],
      "source": [
        "coding[:][0]"
      ]
    },
    {
      "cell_type": "code",
      "execution_count": null,
      "metadata": {
        "id": "MC0TlEaoMINf"
      },
      "outputs": [],
      "source": [
        "# Plot the loss curves\n",
        "plt.figure(figsize = (8, 8))\n",
        "plt.plot(epoch_count, train_loss_values, label = \"training loss\")\n",
        "plt.plot(epoch_count, test_loss_values, label = \"testing loss\")\n",
        "plt.title(\"Training and Test loss curves\")\n",
        "plt.xlabel(\"Epochs\")\n",
        "plt.ylabel(\"Loss\")\n",
        "plt.legend()\n",
        "plt.show()"
      ]
    },
    {
      "cell_type": "code",
      "execution_count": null,
      "metadata": {
        "id": "AzdaRvPMa4So",
        "scrolled": true
      },
      "outputs": [],
      "source": [
        "# Plot the loss curves\n",
        "plt.figure(figsize = (8, 8))\n",
        "plt.plot(epoch_count, train_loss_values, label = \"training loss\")\n",
        "plt.plot(epoch_count, test_loss_values, label = \"testing loss\")\n",
        "plt.title(\"Training and Test loss curves\")\n",
        "plt.xlabel(\"Epochs\")\n",
        "plt.ylabel(\"Loss\")\n",
        "plt.legend()\n",
        "plt.show()"
      ]
    },
    {
      "cell_type": "code",
      "execution_count": null,
      "metadata": {
        "id": "yWHys6wQ2Qnb"
      },
      "outputs": [],
      "source": [
        "from sklearn.decomposition import PCA\n",
        "\n",
        "pca = PCA()\n",
        "pca.fit(emg1)\n",
        "plt.figure(figsize = (8, 8))\n",
        "plt.bar(range(1, len(pca.explained_variance_ratio_) +  1), pca.explained_variance_ratio_)\n",
        "plt.xlabel(\"NO.Components\")\n",
        "plt.ylabel(\"Variance Captured by each component\")\n",
        "plt.title(\"Variance Explained\")\n",
        "plt.show()\n",
        "\n",
        "var_cum = np.cumsum(pca.explained_variance_ratio_)\n",
        "\n",
        "plt.figure(figsize = (8, 8))\n",
        "plt.bar(range(1, len(var_cum) + 1), var_cum)\n",
        "plt.xlabel(\"NO.Components\")\n",
        "plt.ylabel(\"Variance Captured by these number of components\")\n",
        "plt.title(\"Cumulative Variance Explained\")\n",
        "plt.show()\n",
        "\n",
        "print(sum(var_cum < 0.99))  # 9 component\n",
        "print(sum(var_cum < 0.95))  # 7 component"
      ]
    }
  ],
  "metadata": {
    "accelerator": "GPU",
    "colab": {
      "collapsed_sections": [
        "6qxNpXCMa4Se",
        "TenQ23h9a4Sl"
      ],
      "machine_shape": "hm",
      "provenance": []
    },
    "kernelspec": {
      "display_name": "Python 3 (ipykernel)",
      "language": "python",
      "name": "python3"
    },
    "language_info": {
      "codemirror_mode": {
        "name": "ipython",
        "version": 3
      },
      "file_extension": ".py",
      "mimetype": "text/x-python",
      "name": "python",
      "nbconvert_exporter": "python",
      "pygments_lexer": "ipython3",
      "version": "3.10.11"
    }
  },
  "nbformat": 4,
  "nbformat_minor": 0
}